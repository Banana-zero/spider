{
 "cells": [
  {
   "cell_type": "code",
   "execution_count": 29,
   "metadata": {},
   "outputs": [],
   "source": [
    "import threading\n",
    "import time\n",
    "\n",
    "def moyu_time(threadName, delay, counter):\n",
    "    while counter:\n",
    "        time.sleep(delay)\n",
    "        print(\"%s 开始摸鱼 %s\" % (threadName, time.strftime(\n",
    "            \"%Y-%m-%d %H:%M:%S\", time.localtime())))\n",
    "        counter -= 1\n",
    "\n",
    "# 创建一个线程子类\n",
    "class MyThread(threading.Thread):\n",
    "    def __init__(self, threadID, name, counter):\n",
    "        threading.Thread.__init__(self)\n",
    "        self.threadID = threadID\n",
    "        self.name = name\n",
    "        self.counter = counter\n",
    "\n",
    "    def run(self):\n",
    "        print(\"开始线程：\" + self.name)\n",
    "        moyu_time(self.name, 5, self.counter)\n",
    "        print(\"退出线程：\" + self.name)\n"
   ]
  },
  {
   "cell_type": "code",
   "execution_count": 30,
   "metadata": {},
   "outputs": [
    {
     "name": "stdout",
     "output_type": "stream",
     "text": [
      "开始线程：小明开始线程：小红\n",
      "\n",
      "小红 开始摸鱼 2022-08-15 16:59:05小明 开始摸鱼 2022-08-15 16:59:05\n",
      "\n",
      "退出线程：小明\n",
      "小红 开始摸鱼 2022-08-15 16:59:10\n",
      "退出线程：小红\n",
      "退出主线程\n"
     ]
    }
   ],
   "source": [
    "# 创建新线程 \n",
    "# 小帅b找了两个人来摸鱼\n",
    "# 让小明摸一次鱼休息1秒钟\n",
    "# 让小红摸一次鱼休息2秒钟\n",
    "thread1 = MyThread(1, \"小明\", 1)\n",
    "thread2 = MyThread(2, \"小红\", 2)\n",
    "# 开启新线程\n",
    "thread1.start()\n",
    "thread2.start()\n",
    "# 等待至线程中止\n",
    "thread1.join()\n",
    "thread2.join()\n",
    "print (\"退出主线程\")"
   ]
  },
  {
   "cell_type": "code",
   "execution_count": 40,
   "metadata": {},
   "outputs": [
    {
     "name": "stdout",
     "output_type": "stream",
     "text": [
      "xiaoshuaib1 开始摸鱼 2022-08-15 17:34:05\n",
      "xiaoshuaib1 开始摸鱼 2022-08-15 17:34:06\n",
      "xiaoshuaib1 开始摸鱼 2022-08-15 17:34:07\n",
      "xiaoshuaib2 开始摸鱼 2022-08-15 17:34:08\n",
      "xiaoshuaib2 开始摸鱼 2022-08-15 17:34:09\n",
      "xiaoshuaib2 开始摸鱼 2022-08-15 17:34:10\n",
      "xiaoshuaib3 开始摸鱼 2022-08-15 17:34:11\n",
      "xiaoshuaib3 开始摸鱼 2022-08-15 17:34:12\n",
      "xiaoshuaib3 开始摸鱼 2022-08-15 17:34:13\n",
      "xiaoshuaib4 开始摸鱼 2022-08-15 17:34:14\n",
      "xiaoshuaib4 开始摸鱼 2022-08-15 17:34:15\n",
      "xiaoshuaib4 开始摸鱼 2022-08-15 17:34:16\n"
     ]
    }
   ],
   "source": [
    "from concurrent.futures import ThreadPoolExecutor\n",
    "\n",
    "def moyu_time(name, delay, counter):\n",
    "    while counter:\n",
    "        time.sleep(delay)\n",
    "        print(\"%s 开始摸鱼 %s\" % (name, time.strftime(\"%Y-%m-%d %H:%M:%S\", time.localtime())))\n",
    "        counter -= 1\n",
    "\n",
    "if __name__ == '__main__':\n",
    "    pool = ThreadPoolExecutor(20)\n",
    "    for i in range(1,5):\n",
    "        pool.submit(moyu_time('xiaoshuaib'+str(i),1,3))"
   ]
  },
  {
   "cell_type": "code",
   "execution_count": 39,
   "metadata": {},
   "outputs": [
    {
     "name": "stdout",
     "output_type": "stream",
     "text": [
      "xiaoshuaib1 开始摸鱼 2022-08-15 17:33:49\n",
      "xiaoshuaib1 开始摸鱼 2022-08-15 17:33:50\n",
      "xiaoshuaib1 开始摸鱼 2022-08-15 17:33:51\n",
      "xiaoshuaib2 开始摸鱼 2022-08-15 17:33:52\n",
      "xiaoshuaib2 开始摸鱼 2022-08-15 17:33:53\n",
      "xiaoshuaib2 开始摸鱼 2022-08-15 17:33:54\n",
      "xiaoshuaib3 开始摸鱼 2022-08-15 17:33:55\n",
      "xiaoshuaib3 开始摸鱼 2022-08-15 17:33:56\n",
      "xiaoshuaib3 开始摸鱼 2022-08-15 17:33:57\n",
      "xiaoshuaib4 开始摸鱼 2022-08-15 17:33:58\n",
      "xiaoshuaib4 开始摸鱼 2022-08-15 17:33:59\n",
      "xiaoshuaib4 开始摸鱼 2022-08-15 17:34:00\n"
     ]
    }
   ],
   "source": [
    "for i in range(1,5):\n",
    "    moyu_time('xiaoshuaib'+str(i),1,3)"
   ]
  },
  {
   "cell_type": "code",
   "execution_count": 38,
   "metadata": {},
   "outputs": [
    {
     "name": "stdout",
     "output_type": "stream",
     "text": [
      "task1: False\n",
      "task2: False\n",
      "task3: False\n",
      "crawl task1 finished\n",
      "crawl task2 finished\n",
      "task1: True\n",
      "task2: True\n",
      "task3: False\n",
      "1\n",
      "crawl task3 finished\n"
     ]
    }
   ],
   "source": [
    "from concurrent.futures import ThreadPoolExecutor\n",
    "import time\n",
    "\n",
    "\n",
    "def spider(page):\n",
    "    time.sleep(page)\n",
    "    print(f\"crawl task{page} finished\")\n",
    "    return page\n",
    "\n",
    "with ThreadPoolExecutor(max_workers=5) as t:  # 创建一个最大容纳数量为5的线程池\n",
    "    task1 = t.submit(spider, 1)\n",
    "    task2 = t.submit(spider, 2)  # 通过submit提交执行的函数到线程池中\n",
    "    task3 = t.submit(spider, 3)\n",
    "\n",
    "    print(f\"task1: {task1.done()}\")  # 通过done来判断线程是否完成\n",
    "    print(f\"task2: {task2.done()}\")\n",
    "    print(f\"task3: {task3.done()}\")\n",
    "\n",
    "    time.sleep(2.5)\n",
    "    print(f\"task1: {task1.done()}\")\n",
    "    print(f\"task2: {task2.done()}\")\n",
    "    print(f\"task3: {task3.done()}\")\n",
    "    print(task1.result())  # 通过result来获取返回值"
   ]
  },
  {
   "cell_type": "code",
   "execution_count": 42,
   "metadata": {},
   "outputs": [
    {
     "name": "stdout",
     "output_type": "stream",
     "text": [
      " 开始摸鱼 2022-08-15 17:35:25 开始摸鱼 2022-08-15 17:35:25\n",
      " 开始摸鱼 2022-08-15 17:35:25\n",
      " 开始摸鱼 2022-08-15 17:35:25\n",
      " 开始摸鱼 2022-08-15 17:35:25\n",
      "\n",
      " 开始摸鱼 2022-08-15 17:35:25\n",
      " 开始摸鱼 2022-08-15 17:35:25\n",
      " 开始摸鱼 2022-08-15 17:35:25\n",
      " 开始摸鱼 2022-08-15 17:35:25\n",
      " 开始摸鱼 2022-08-15 17:35:25\n",
      " 开始摸鱼 2022-08-15 17:35:25\n",
      " 开始摸鱼 2022-08-15 17:35:25\n",
      " 开始摸鱼 2022-08-15 17:35:25\n",
      " 开始摸鱼 2022-08-15 17:35:25 开始摸鱼 2022-08-15 17:35:25\n",
      "\n",
      " 开始摸鱼 2022-08-15 17:35:25 开始摸鱼 2022-08-15 17:35:25 开始摸鱼 2022-08-15 17:35:25\n",
      " 开始摸鱼 2022-08-15 17:35:25\n",
      " 开始摸鱼 2022-08-15 17:35:25\n",
      "\n",
      "\n"
     ]
    }
   ],
   "source": [
    "import threading\n",
    "import time\n",
    "from queue import Queue\n",
    "\n",
    "class CustomThread(threading.Thread):\n",
    "    def __init__(self, queue):\n",
    "        threading.Thread.__init__(self)\n",
    "        self.__queue = queue\n",
    "\n",
    "    def run(self):\n",
    "        while True:\n",
    "            q_method = self.__queue.get()\n",
    "            q_method()\n",
    "            self.__queue.task_done()\n",
    "\n",
    "def moyu():\n",
    "    print(\" 开始摸鱼 %s\" % (time.strftime(\"%Y-%m-%d %H:%M:%S\", time.localtime())))\n",
    "\n",
    "def queue_pool():\n",
    "    queue = Queue(5)\n",
    "    for i in range(queue.maxsize):\n",
    "        t = CustomThread(queue)\n",
    "        t.setDaemon(True)\n",
    "        t.start()\n",
    "\n",
    "    for i in range(20):\n",
    "        queue.put(moyu)\n",
    "    queue.join()\n",
    "\n",
    "if __name__ == '__main__':\n",
    "    queue_pool()"
   ]
  }
 ],
 "metadata": {
  "kernelspec": {
   "display_name": "Python 3.7.10 64-bit (system)",
   "language": "python",
   "name": "python3"
  },
  "language_info": {
   "codemirror_mode": {
    "name": "ipython",
    "version": 3
   },
   "file_extension": ".py",
   "mimetype": "text/x-python",
   "name": "python",
   "nbconvert_exporter": "python",
   "pygments_lexer": "ipython3",
   "version": "3.7.10"
  },
  "orig_nbformat": 4,
  "vscode": {
   "interpreter": {
    "hash": "01110ad93a783e2b56fd8aaffb56c66c25f858f6f6bc577743043d639b32f47b"
   }
  }
 },
 "nbformat": 4,
 "nbformat_minor": 2
}
