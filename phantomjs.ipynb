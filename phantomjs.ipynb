{
 "cells": [
  {
   "cell_type": "code",
   "execution_count": 41,
   "metadata": {},
   "outputs": [],
   "source": [
    "# phantomjs的定位是，使用selenium之后，替换成phantomjs，这样不会有浏览器界面出现，仅此而已\n",
    "\n",
    "from selenium import webdriver\n",
    "from selenium.webdriver.common.by import By\n",
    "from selenium.webdriver.support.wait import WebDriverWait\n",
    "from selenium.webdriver.support import expected_conditions as EC"
   ]
  },
  {
   "cell_type": "code",
   "execution_count": 42,
   "metadata": {},
   "outputs": [],
   "source": [
    "driver=webdriver.Chrome(\"C:\\Program Files (x86)\\Google\\Chrome\\Application\\chromedriver.exe\")"
   ]
  },
  {
   "cell_type": "code",
   "execution_count": 43,
   "metadata": {},
   "outputs": [],
   "source": [
    "driver.get('https://www.bilibili.com')"
   ]
  },
  {
   "cell_type": "code",
   "execution_count": 44,
   "metadata": {},
   "outputs": [],
   "source": [
    "input = WebDriverWait(driver,10).until(EC.presence_of_element_located(\n",
    "    (By.CSS_SELECTOR, '.nav-search-input')))\n",
    "submit = WebDriverWait(driver,10).until(EC.presence_of_element_located(\n",
    "    (By.CSS_SELECTOR, '.nav-search-btn')))\n"
   ]
  },
  {
   "cell_type": "code",
   "execution_count": 45,
   "metadata": {},
   "outputs": [],
   "source": [
    "input.send_keys('蔡徐坤 篮球')\n",
    "submit.click()"
   ]
  },
  {
   "cell_type": "code",
   "execution_count": 46,
   "metadata": {},
   "outputs": [],
   "source": [
    "# 获取所有标签页列表，取第二个标签页，id为1\n",
    "all_h=driver.window_handles\n",
    "driver.switch_to.window(all_h[1])"
   ]
  },
  {
   "cell_type": "code",
   "execution_count": 47,
   "metadata": {},
   "outputs": [
    {
     "name": "stdout",
     "output_type": "stream",
     "text": [
      "<class 'str'> 42\n"
     ]
    }
   ],
   "source": [
    "total = WebDriverWait(driver, 10).until(\n",
    "    EC.presence_of_element_located((By.CSS_SELECTOR, '#i_cecream > div:nth-child(1) > div:nth-child(1) > div.search-content > div > div > div.flex_center.mt_x50.mb_x50 > div > div > button:nth-child(10)')))\n",
    "print(type(total.text),total.text)\n"
   ]
  },
  {
   "cell_type": "code",
   "execution_count": 48,
   "metadata": {},
   "outputs": [],
   "source": [
    "for i in range(int(total.text)-1):\n",
    "    html=driver.page_source\n",
    "    print(html)"
   ]
  },
  {
   "cell_type": "code",
   "execution_count": null,
   "metadata": {},
   "outputs": [],
   "source": []
  }
 ],
 "metadata": {
  "kernelspec": {
   "display_name": "Python 3.7.3 64-bit",
   "language": "python",
   "name": "python3"
  },
  "language_info": {
   "codemirror_mode": {
    "name": "ipython",
    "version": 3
   },
   "file_extension": ".py",
   "mimetype": "text/x-python",
   "name": "python",
   "nbconvert_exporter": "python",
   "pygments_lexer": "ipython3",
   "version": "3.7.3"
  },
  "orig_nbformat": 4,
  "vscode": {
   "interpreter": {
    "hash": "c170d838c347f12ebc32e620eb6aad81d977789a451ba453bd06cd873f20c3c2"
   }
  }
 },
 "nbformat": 4,
 "nbformat_minor": 2
}
