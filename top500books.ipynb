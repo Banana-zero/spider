{
 "cells": [
  {
   "cell_type": "code",
   "execution_count": 98,
   "metadata": {},
   "outputs": [],
   "source": [
    "import requests\n",
    "import re\n",
    "import json\n",
    "import time"
   ]
  },
  {
   "cell_type": "code",
   "execution_count": 99,
   "metadata": {},
   "outputs": [],
   "source": [
    "def request_dandan(url):\n",
    "    try:\n",
    "        response = requests.get(url)\n",
    "        if response.status_code == 200:\n",
    "            return response.text\n",
    "    except requests.RequestException:\n",
    "        return None\n"
   ]
  },
  {
   "cell_type": "code",
   "execution_count": 100,
   "metadata": {},
   "outputs": [],
   "source": [
    "def parse_result(html):\n",
    "    regex='list_num.*?(\\d+).*\\n.*?img src=\"(.*?)\".*?\\n.*?title=\"(.*?)\".*\\n.*?tuijian\">(.*?)</span>.*\\n.*?title=\"(.*?)\".*\\n.*?<span>(.*?)</span>'\n",
    "    pattern = re.compile(regex)\n",
    "    items = re.findall(pattern, html)\n",
    "    # return items\n",
    "    for item in items:\n",
    "       yield {\n",
    "           'range': item[0],\n",
    "           'iamge': item[1],\n",
    "           'title': item[2],\n",
    "           'recommend': item[3],\n",
    "           'author': item[4],\n",
    "           'times': item[5],\n",
    "       }\n"
   ]
  },
  {
   "cell_type": "code",
   "execution_count": 101,
   "metadata": {},
   "outputs": [],
   "source": [
    "def main(page):\n",
    "    url = 'http://bang.dangdang.com/books/fivestars/01.00.00.00.00.00-recent30-0-0-1-' + \\\n",
    "        str(page)\n",
    "    html = request_dandan(url)\n",
    "    items = parse_result(html)\n",
    "    with open('books.txt','a',encoding='utf-8') as f:\n",
    "        for item in items:\n",
    "            # print(item)\n",
    "            f.write(json.dumps(item,indent='\\t',ensure_ascii=False))\n"
   ]
  },
  {
   "cell_type": "code",
   "execution_count": 102,
   "metadata": {},
   "outputs": [],
   "source": [
    "for i in range(1,26):\n",
    "    main(i)\n",
    "    time.sleep(2)"
   ]
  }
 ],
 "metadata": {
  "kernelspec": {
   "display_name": "Python 3.9.12 ('base')",
   "language": "python",
   "name": "python3"
  },
  "language_info": {
   "codemirror_mode": {
    "name": "ipython",
    "version": 3
   },
   "file_extension": ".py",
   "mimetype": "text/x-python",
   "name": "python",
   "nbconvert_exporter": "python",
   "pygments_lexer": "ipython3",
   "version": "3.9.12"
  },
  "orig_nbformat": 4,
  "vscode": {
   "interpreter": {
    "hash": "87bac9e3d281b60ea102d00a42ef16d85d54b39e10f21cbe8743833ecf6d3708"
   }
  }
 },
 "nbformat": 4,
 "nbformat_minor": 2
}
