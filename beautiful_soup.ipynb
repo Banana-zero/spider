{
 "cells": [
  {
   "cell_type": "code",
   "execution_count": 2,
   "metadata": {},
   "outputs": [],
   "source": [
    "html_doc = \"\"\"\n",
    "\n",
    "<html><head><title>学习python的正确姿势</title></head>\n",
    "<body>\n",
    "<p class=\"title\"><b>小帅b的故事</b></p>\n",
    "\n",
    "<p class=\"story\">有一天，小帅b想给大家讲两个笑话\n",
    "<a href=\"http://example.com/1\" class=\"sister\" id=\"link1\">一个笑话长</a>,\n",
    "<a href=\"http://example.com/2\" class=\"sister\" id=\"link2\">一个笑话短</a> ,\n",
    "他问大家，想听长的还是短的？</p>\n",
    "\n",
    "<p class=\"story\">...</p>\n",
    "\n",
    "\"\"\""
   ]
  },
  {
   "cell_type": "code",
   "execution_count": 3,
   "metadata": {},
   "outputs": [],
   "source": [
    "from bs4 import BeautifulSoup\n",
    "\n",
    "soup = BeautifulSoup(html_doc,'lxml')"
   ]
  },
  {
   "cell_type": "code",
   "execution_count": 4,
   "metadata": {},
   "outputs": [
    {
     "name": "stdout",
     "output_type": "stream",
     "text": [
      "学习python的正确姿势\n",
      "小帅b的故事\n",
      "head\n",
      "<a class=\"sister\" href=\"http://example.com/1\" id=\"link1\">一个笑话长</a>\n",
      "[<a class=\"sister\" href=\"http://example.com/1\" id=\"link1\">一个笑话长</a>, <a class=\"sister\" href=\"http://example.com/2\" id=\"link2\">一个笑话短</a>]\n",
      "<a class=\"sister\" href=\"http://example.com/2\" id=\"link2\">一个笑话短</a>\n",
      "学习python的正确姿势\n",
      "\n",
      "小帅b的故事\n",
      "有一天，小帅b想给大家讲两个笑话\n",
      "一个笑话长,\n",
      "一个笑话短 ,\n",
      "他问大家，想听长的还是短的？\n",
      "...\n",
      "\n"
     ]
    }
   ],
   "source": [
    "print(soup.title.string)\n",
    "print(soup.b.string)\n",
    "print(soup.title.parent.name)\n",
    "print(soup.a)\n",
    "print(soup.find_all('a'))\n",
    "print(soup.find(id='link2'))\n",
    "print(soup.get_text())"
   ]
  },
  {
   "cell_type": "code",
   "execution_count": 5,
   "metadata": {},
   "outputs": [
    {
     "name": "stdout",
     "output_type": "stream",
     "text": [
      "[<title>学习python的正确姿势</title>]\n",
      "[<a class=\"sister\" href=\"http://example.com/1\" id=\"link1\">一个笑话长</a>, <a class=\"sister\" href=\"http://example.com/2\" id=\"link2\">一个笑话短</a>]\n",
      "[<a class=\"sister\" href=\"http://example.com/1\" id=\"link1\">一个笑话长</a>]\n"
     ]
    }
   ],
   "source": [
    "print(soup.select('title'))\n",
    "print(soup.select(\"body a\"))\n",
    "print(soup.select(\"p > #link1\"))"
   ]
  },
  {
   "cell_type": "code",
   "execution_count": 8,
   "metadata": {},
   "outputs": [
    {
     "name": "stdout",
     "output_type": "stream",
     "text": [
      "<a class=\"sister\" href=\"http://example.com/2\" id=\"link2\">一个笑话短</a>\n"
     ]
    }
   ],
   "source": [
    "print(soup.find(href=\"http://example.com/2\"))"
   ]
  },
  {
   "cell_type": "code",
   "execution_count": null,
   "metadata": {},
   "outputs": [],
   "source": []
  }
 ],
 "metadata": {
  "kernelspec": {
   "display_name": "Python 3.7.13 ('spider')",
   "language": "python",
   "name": "python3"
  },
  "language_info": {
   "codemirror_mode": {
    "name": "ipython",
    "version": 3
   },
   "file_extension": ".py",
   "mimetype": "text/x-python",
   "name": "python",
   "nbconvert_exporter": "python",
   "pygments_lexer": "ipython3",
   "version": "3.7.13"
  },
  "orig_nbformat": 4,
  "vscode": {
   "interpreter": {
    "hash": "a17639a02e07ca6ba040bbd94dc944c0da064a986c7ec9ebc798d2f5b1b9ff5a"
   }
  }
 },
 "nbformat": 4,
 "nbformat_minor": 2
}
